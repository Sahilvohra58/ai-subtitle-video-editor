{
  "nbformat": 4,
  "nbformat_minor": 0,
  "metadata": {
    "colab": {
      "name": "demo-colab-deployment.ipynb",
      "provenance": [],
      "collapsed_sections": [],
      "authorship_tag": "ABX9TyND03RmwsseFx/fOPdOWCp/",
      "include_colab_link": true
    },
    "kernelspec": {
      "name": "python3",
      "display_name": "Python 3"
    },
    "language_info": {
      "name": "python"
    }
  },
  "cells": [
    {
      "cell_type": "markdown",
      "metadata": {
        "id": "view-in-github",
        "colab_type": "text"
      },
      "source": [
        "<a href=\"https://colab.research.google.com/github/Sahilvohra58/ai-subtitle-video-editor/blob/main/demo_colab_deployment.ipynb\" target=\"_parent\"><img src=\"https://colab.research.google.com/assets/colab-badge.svg\" alt=\"Open In Colab\"/></a>"
      ]
    },
    {
      "cell_type": "markdown",
      "source": [
        "## 1. Cloning the Github repo in the current directory"
      ],
      "metadata": {
        "id": "4Idj66U-LPMg"
      }
    },
    {
      "cell_type": "code",
      "source": [
        "!git init .\n",
        "!git remote add origin https://github.com/Sahilvohra58/ai-subtitle-video-editor.git\n",
        "!git pull origin main --allow-unrelated-histories"
      ],
      "metadata": {
        "id": "EkR9sGAmtcID"
      },
      "execution_count": 1,
      "outputs": []
    },
    {
      "cell_type": "markdown",
      "source": [
        "## 2. Installing dependencies"
      ],
      "metadata": {
        "id": "UKmbsRVfLcnb"
      }
    },
    {
      "cell_type": "code",
      "source": [
        "!bash apt_requirements.sh\n",
        "!bash pip install -r requirements.txt\n",
        "!sed -i '/<policy domain=\"path\" rights=\"none\" pattern=\"@\\*\"/d' /etc/ImageMagick-6/policy.xml"
      ],
      "metadata": {
        "id": "vNCLg-z2koNx"
      },
      "execution_count": 2,
      "outputs": []
    },
    {
      "cell_type": "code",
      "source": [
        "# Set video and service account credentials files manually if already uploaded. In that case dont run the next two cells.\n",
        "# video_file_name = \"Sahil.mp4\"\n",
        "# service_account = \"service-account.json\""
      ],
      "metadata": {
        "id": "tbHHpMnm6bqO"
      },
      "execution_count": null,
      "outputs": []
    },
    {
      "cell_type": "code",
      "source": [
        "from google.colab import files\n",
        "print(\"Upload video file\")\n",
        "uploaded = files.upload()\n",
        "video_file_name = list(uploaded.keys())[0]\n",
        "video_file_name"
      ],
      "metadata": {
        "id": "p-3klcifpVLk"
      },
      "execution_count": 3,
      "outputs": []
    },
    {
      "cell_type": "code",
      "source": [
        "print('Upload service account credentials')\n",
        "uploaded = files.upload()\n",
        "service_account = list(uploaded.keys())[0]\n",
        "service_account"
      ],
      "metadata": {
        "id": "OSEFgmLPqZRH"
      },
      "execution_count": 4,
      "outputs": []
    },
    {
      "cell_type": "markdown",
      "source": [
        "## 3. Starting the app.\n",
        "\n",
        "### Open the app URL to interact the app"
      ],
      "metadata": {
        "id": "r0BpzedoL21C"
      }
    },
    {
      "cell_type": "code",
      "source": [
        "!pip install pyngrok\n",
        "from pyngrok import ngrok\n",
        "ngrok.set_auth_token(\"<Your access ngrok token>\")\n",
        "ngrok_port = 5000"
      ],
      "metadata": {
        "id": "6aQ83_qdEglz"
      },
      "execution_count": 5,
      "outputs": []
    },
    {
      "cell_type": "code",
      "source": [
        "try:\n",
        "  public_url = ngrok.connect(ngrok_port).public_url\n",
        "except:\n",
        "  print(\"public url already created: \", public_url)\n",
        "\n",
        "print(\"app URL: \", public_url)\n",
        "cmd = f\"\"\"python main.py --video_file_name {video_file_name} --service_account_json {service_account} --app_port {ngrok_port}\"\"\"\n",
        "with open('run.sh', 'w') as file:\n",
        "  file.write(cmd)\n",
        "!bash run.sh"
      ],
      "metadata": {
        "id": "uc-SZG2pwaJS"
      },
      "execution_count": 6,
      "outputs": []
    }
  ]
}